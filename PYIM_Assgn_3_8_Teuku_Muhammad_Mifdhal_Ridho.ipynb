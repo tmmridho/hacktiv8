{
  "nbformat": 4,
  "nbformat_minor": 0,
  "metadata": {
    "colab": {
      "name": "PYIM_Assgn_3_8_Teuku Muhammad Mifdhal Ridho.ipynb",
      "provenance": [],
      "authorship_tag": "ABX9TyPVK5S8QjflTUGL2fBJk0hf",
      "include_colab_link": true
    },
    "kernelspec": {
      "name": "python3",
      "display_name": "Python 3"
    },
    "language_info": {
      "name": "python"
    },
    "accelerator": "GPU"
  },
  "cells": [
    {
      "cell_type": "markdown",
      "metadata": {
        "id": "view-in-github",
        "colab_type": "text"
      },
      "source": [
        "<a href=\"https://colab.research.google.com/github/tmmridho/hacktiv8/blob/main/PYIM_Assgn_3_8_Teuku_Muhammad_Mifdhal_Ridho.ipynb\" target=\"_parent\"><img src=\"https://colab.research.google.com/assets/colab-badge.svg\" alt=\"Open In Colab\"/></a>"
      ]
    },
    {
      "cell_type": "markdown",
      "metadata": {
        "id": "shd3fAiYhWG5"
      },
      "source": [
        "# Import library"
      ]
    },
    {
      "cell_type": "code",
      "metadata": {
        "id": "Y3_WPBJjgwI5"
      },
      "source": [
        "import tensorflow_datasets as tfds\n",
        "import tensorflow as tf\n",
        "import numpy as np\n",
        "import matplotlib.pyplot as plt\n",
        "import pandas as pd"
      ],
      "execution_count": 20,
      "outputs": []
    },
    {
      "cell_type": "markdown",
      "metadata": {
        "id": "0LnAZVAVirC6"
      },
      "source": [
        "# Create graphic"
      ]
    },
    {
      "cell_type": "code",
      "metadata": {
        "id": "prW5wp3Aic_L"
      },
      "source": [
        "def plot_graphs(history, metric):\n",
        "  plt.plot(history.history[metric])\n",
        "  plt.plot(history.history['val_'+metric], '')\n",
        "  plt.xlabel(\"Epochs\")\n",
        "  plt.ylabel(metric)\n",
        "  plt.legend([metric, 'val_'+metric])"
      ],
      "execution_count": 2,
      "outputs": []
    },
    {
      "cell_type": "markdown",
      "metadata": {
        "id": "mywdTIx6kjpr"
      },
      "source": [
        "# Input dataset"
      ]
    },
    {
      "cell_type": "code",
      "metadata": {
        "colab": {
          "base_uri": "https://localhost:8080/"
        },
        "id": "6kWB4PoUizDo",
        "outputId": "9c9bfc0e-7318-40a8-dfe2-54d0b3fee3c6"
      },
      "source": [
        "dataset, info = tfds.load('amazon_us_reviews/Digital_Video_Games_v1_00', with_info=True, as_supervised=False)\n",
        "\n",
        "train_dataset= dataset['train']\n",
        "\n",
        "train_dataset.element_spec"
      ],
      "execution_count": 3,
      "outputs": [
        {
          "output_type": "execute_result",
          "data": {
            "text/plain": [
              "{'data': {'customer_id': TensorSpec(shape=(), dtype=tf.string, name=None),\n",
              "  'helpful_votes': TensorSpec(shape=(), dtype=tf.int32, name=None),\n",
              "  'marketplace': TensorSpec(shape=(), dtype=tf.string, name=None),\n",
              "  'product_category': TensorSpec(shape=(), dtype=tf.string, name=None),\n",
              "  'product_id': TensorSpec(shape=(), dtype=tf.string, name=None),\n",
              "  'product_parent': TensorSpec(shape=(), dtype=tf.string, name=None),\n",
              "  'product_title': TensorSpec(shape=(), dtype=tf.string, name=None),\n",
              "  'review_body': TensorSpec(shape=(), dtype=tf.string, name=None),\n",
              "  'review_date': TensorSpec(shape=(), dtype=tf.string, name=None),\n",
              "  'review_headline': TensorSpec(shape=(), dtype=tf.string, name=None),\n",
              "  'review_id': TensorSpec(shape=(), dtype=tf.string, name=None),\n",
              "  'star_rating': TensorSpec(shape=(), dtype=tf.int32, name=None),\n",
              "  'total_votes': TensorSpec(shape=(), dtype=tf.int32, name=None),\n",
              "  'verified_purchase': TensorSpec(shape=(), dtype=tf.int64, name=None),\n",
              "  'vine': TensorSpec(shape=(), dtype=tf.int64, name=None)}}"
            ]
          },
          "metadata": {
            "tags": []
          },
          "execution_count": 3
        }
      ]
    },
    {
      "cell_type": "markdown",
      "metadata": {
        "id": "Y401Iq7Ump3k"
      },
      "source": [
        "# Load data into dataframe"
      ]
    },
    {
      "cell_type": "code",
      "metadata": {
        "colab": {
          "base_uri": "https://localhost:8080/",
          "height": 309
        },
        "id": "t1tnPQM5k-6r",
        "outputId": "8521d5d2-5c3a-4595-fa2e-0d79f2bfc156"
      },
      "source": [
        "df = tfds.as_dataframe(dataset['train'], info)\n",
        "df.head()"
      ],
      "execution_count": 5,
      "outputs": [
        {
          "output_type": "execute_result",
          "data": {
            "text/html": [
              "<div>\n",
              "<style scoped>\n",
              "    .dataframe tbody tr th:only-of-type {\n",
              "        vertical-align: middle;\n",
              "    }\n",
              "\n",
              "    .dataframe tbody tr th {\n",
              "        vertical-align: top;\n",
              "    }\n",
              "\n",
              "    .dataframe thead th {\n",
              "        text-align: right;\n",
              "    }\n",
              "</style>\n",
              "<table border=\"1\" class=\"dataframe\">\n",
              "  <thead>\n",
              "    <tr style=\"text-align: right;\">\n",
              "      <th></th>\n",
              "      <th>data/customer_id</th>\n",
              "      <th>data/helpful_votes</th>\n",
              "      <th>data/marketplace</th>\n",
              "      <th>data/product_category</th>\n",
              "      <th>data/product_id</th>\n",
              "      <th>data/product_parent</th>\n",
              "      <th>data/product_title</th>\n",
              "      <th>data/review_body</th>\n",
              "      <th>data/review_date</th>\n",
              "      <th>data/review_headline</th>\n",
              "      <th>data/review_id</th>\n",
              "      <th>data/star_rating</th>\n",
              "      <th>data/total_votes</th>\n",
              "      <th>data/verified_purchase</th>\n",
              "      <th>data/vine</th>\n",
              "    </tr>\n",
              "  </thead>\n",
              "  <tbody>\n",
              "    <tr>\n",
              "      <th>0</th>\n",
              "      <td>b'2260456'</td>\n",
              "      <td>0</td>\n",
              "      <td>b'US'</td>\n",
              "      <td>b'Digital_Video_Games'</td>\n",
              "      <td>b'B00F4CEHNK'</td>\n",
              "      <td>b'341969535'</td>\n",
              "      <td>b'Xbox Live Gift Card'</td>\n",
              "      <td>b'Great.'</td>\n",
              "      <td>b'2015-03-30'</td>\n",
              "      <td>b'Five Stars'</td>\n",
              "      <td>b'R2THVSPD17067F'</td>\n",
              "      <td>5</td>\n",
              "      <td>0</td>\n",
              "      <td>0</td>\n",
              "      <td>1</td>\n",
              "    </tr>\n",
              "    <tr>\n",
              "      <th>1</th>\n",
              "      <td>b'8803476'</td>\n",
              "      <td>0</td>\n",
              "      <td>b'US'</td>\n",
              "      <td>b'Digital_Video_Games'</td>\n",
              "      <td>b'B00GAC1D2G'</td>\n",
              "      <td>b'384246568'</td>\n",
              "      <td>b'Playstation Network Card'</td>\n",
              "      <td>b'very good'</td>\n",
              "      <td>b'2015-08-14'</td>\n",
              "      <td>b'Five Stars'</td>\n",
              "      <td>b'R310RKYQ2QA7SB'</td>\n",
              "      <td>5</td>\n",
              "      <td>0</td>\n",
              "      <td>0</td>\n",
              "      <td>1</td>\n",
              "    </tr>\n",
              "    <tr>\n",
              "      <th>2</th>\n",
              "      <td>b'18246487'</td>\n",
              "      <td>3</td>\n",
              "      <td>b'US'</td>\n",
              "      <td>b'Digital_Video_Games'</td>\n",
              "      <td>b'B00AYHGAF8'</td>\n",
              "      <td>b'442068496'</td>\n",
              "      <td>b'The Sims 3: Monte Vista'</td>\n",
              "      <td>b\"Anything that enables one to make his or her...</td>\n",
              "      <td>b'2013-03-29'</td>\n",
              "      <td>b'Mmmmm...Pizza!'</td>\n",
              "      <td>b'R1BFVTJH7VKPIK'</td>\n",
              "      <td>5</td>\n",
              "      <td>4</td>\n",
              "      <td>0</td>\n",
              "      <td>1</td>\n",
              "    </tr>\n",
              "    <tr>\n",
              "      <th>3</th>\n",
              "      <td>b'16355070'</td>\n",
              "      <td>0</td>\n",
              "      <td>b'US'</td>\n",
              "      <td>b'Digital_Video_Games'</td>\n",
              "      <td>b'B004RMK57U'</td>\n",
              "      <td>b'53534661'</td>\n",
              "      <td>b'Playstation Plus Subscription'</td>\n",
              "      <td>b'simply excellent thanks amazon...'</td>\n",
              "      <td>b'2014-08-06'</td>\n",
              "      <td>b'Five Stars'</td>\n",
              "      <td>b'R247D4LDWYXRZY'</td>\n",
              "      <td>5</td>\n",
              "      <td>0</td>\n",
              "      <td>0</td>\n",
              "      <td>1</td>\n",
              "    </tr>\n",
              "    <tr>\n",
              "      <th>4</th>\n",
              "      <td>b'43587014'</td>\n",
              "      <td>0</td>\n",
              "      <td>b'US'</td>\n",
              "      <td>b'Digital_Video_Games'</td>\n",
              "      <td>b'B00K59HKIQ'</td>\n",
              "      <td>b'384246568'</td>\n",
              "      <td>b'Playstation Network Card'</td>\n",
              "      <td>b'Excellent'</td>\n",
              "      <td>b'2015-03-23'</td>\n",
              "      <td>b'Five Stars'</td>\n",
              "      <td>b'R2KPD6KLMXXYOF'</td>\n",
              "      <td>5</td>\n",
              "      <td>0</td>\n",
              "      <td>0</td>\n",
              "      <td>1</td>\n",
              "    </tr>\n",
              "  </tbody>\n",
              "</table>\n",
              "</div>"
            ],
            "text/plain": [
              "  data/customer_id  data/helpful_votes  ... data/verified_purchase data/vine\n",
              "0       b'2260456'                   0  ...                      0         1\n",
              "1       b'8803476'                   0  ...                      0         1\n",
              "2      b'18246487'                   3  ...                      0         1\n",
              "3      b'16355070'                   0  ...                      0         1\n",
              "4      b'43587014'                   0  ...                      0         1\n",
              "\n",
              "[5 rows x 15 columns]"
            ]
          },
          "metadata": {
            "tags": []
          },
          "execution_count": 5
        }
      ]
    },
    {
      "cell_type": "code",
      "metadata": {
        "colab": {
          "base_uri": "https://localhost:8080/"
        },
        "id": "FaiZ99hcsrN8",
        "outputId": "a874f3a4-3833-4040-b521-493f880911c4"
      },
      "source": [
        "len(df)"
      ],
      "execution_count": 6,
      "outputs": [
        {
          "output_type": "execute_result",
          "data": {
            "text/plain": [
              "145431"
            ]
          },
          "metadata": {
            "tags": []
          },
          "execution_count": 6
        }
      ]
    },
    {
      "cell_type": "markdown",
      "metadata": {
        "id": "innBdnueqVFf"
      },
      "source": [
        "# Remove neutral data"
      ]
    },
    {
      "cell_type": "code",
      "metadata": {
        "colab": {
          "base_uri": "https://localhost:8080/"
        },
        "id": "5If-IcYEp8gI",
        "outputId": "9fa383b5-4f89-4a2c-da83-918a4f406e03"
      },
      "source": [
        "df_clean = df[df['data/star_rating'] != 3]\n",
        "len(df_clean)"
      ],
      "execution_count": 7,
      "outputs": [
        {
          "output_type": "execute_result",
          "data": {
            "text/plain": [
              "133802"
            ]
          },
          "metadata": {
            "tags": []
          },
          "execution_count": 7
        }
      ]
    },
    {
      "cell_type": "markdown",
      "metadata": {
        "id": "zLGMky8euNLU"
      },
      "source": [
        "# Remap value"
      ]
    },
    {
      "cell_type": "code",
      "metadata": {
        "colab": {
          "base_uri": "https://localhost:8080/"
        },
        "id": "b5VmyjLotO8P",
        "outputId": "29b0020b-8203-4dbd-e607-51e71bfc4cff"
      },
      "source": [
        "df_clean['sentiment'] = df_clean['data/star_rating'].apply(lambda score: 'positive' if score > 3 else 'negative')\n",
        "df_clean['sentiment'] = df_clean['sentiment'].map({'positive':1, 'negative':0})\n",
        "df_clean['review'] =df_clean['data/review_body'].str.decode(\"utf-8\")\n",
        "df_fix = df_clean[[\"review\", \"sentiment\"]]"
      ],
      "execution_count": 11,
      "outputs": [
        {
          "output_type": "stream",
          "text": [
            "/usr/local/lib/python3.7/dist-packages/ipykernel_launcher.py:1: SettingWithCopyWarning: \n",
            "A value is trying to be set on a copy of a slice from a DataFrame.\n",
            "Try using .loc[row_indexer,col_indexer] = value instead\n",
            "\n",
            "See the caveats in the documentation: https://pandas.pydata.org/pandas-docs/stable/user_guide/indexing.html#returning-a-view-versus-a-copy\n",
            "  \"\"\"Entry point for launching an IPython kernel.\n",
            "/usr/local/lib/python3.7/dist-packages/ipykernel_launcher.py:2: SettingWithCopyWarning: \n",
            "A value is trying to be set on a copy of a slice from a DataFrame.\n",
            "Try using .loc[row_indexer,col_indexer] = value instead\n",
            "\n",
            "See the caveats in the documentation: https://pandas.pydata.org/pandas-docs/stable/user_guide/indexing.html#returning-a-view-versus-a-copy\n",
            "  \n",
            "/usr/local/lib/python3.7/dist-packages/ipykernel_launcher.py:3: SettingWithCopyWarning: \n",
            "A value is trying to be set on a copy of a slice from a DataFrame.\n",
            "Try using .loc[row_indexer,col_indexer] = value instead\n",
            "\n",
            "See the caveats in the documentation: https://pandas.pydata.org/pandas-docs/stable/user_guide/indexing.html#returning-a-view-versus-a-copy\n",
            "  This is separate from the ipykernel package so we can avoid doing imports until\n"
          ],
          "name": "stderr"
        }
      ]
    },
    {
      "cell_type": "code",
      "metadata": {
        "colab": {
          "base_uri": "https://localhost:8080/",
          "height": 204
        },
        "id": "B1gifu_0uUHt",
        "outputId": "99d94e27-c5e2-4598-c587-58047c279dca"
      },
      "source": [
        "df_fix.head()"
      ],
      "execution_count": 13,
      "outputs": [
        {
          "output_type": "execute_result",
          "data": {
            "text/html": [
              "<div>\n",
              "<style scoped>\n",
              "    .dataframe tbody tr th:only-of-type {\n",
              "        vertical-align: middle;\n",
              "    }\n",
              "\n",
              "    .dataframe tbody tr th {\n",
              "        vertical-align: top;\n",
              "    }\n",
              "\n",
              "    .dataframe thead th {\n",
              "        text-align: right;\n",
              "    }\n",
              "</style>\n",
              "<table border=\"1\" class=\"dataframe\">\n",
              "  <thead>\n",
              "    <tr style=\"text-align: right;\">\n",
              "      <th></th>\n",
              "      <th>review</th>\n",
              "      <th>sentiment</th>\n",
              "    </tr>\n",
              "  </thead>\n",
              "  <tbody>\n",
              "    <tr>\n",
              "      <th>0</th>\n",
              "      <td>Great.</td>\n",
              "      <td>1</td>\n",
              "    </tr>\n",
              "    <tr>\n",
              "      <th>1</th>\n",
              "      <td>very good</td>\n",
              "      <td>1</td>\n",
              "    </tr>\n",
              "    <tr>\n",
              "      <th>2</th>\n",
              "      <td>Anything that enables one to make his or her o...</td>\n",
              "      <td>1</td>\n",
              "    </tr>\n",
              "    <tr>\n",
              "      <th>3</th>\n",
              "      <td>simply excellent thanks amazon...</td>\n",
              "      <td>1</td>\n",
              "    </tr>\n",
              "    <tr>\n",
              "      <th>4</th>\n",
              "      <td>Excellent</td>\n",
              "      <td>1</td>\n",
              "    </tr>\n",
              "  </tbody>\n",
              "</table>\n",
              "</div>"
            ],
            "text/plain": [
              "                                              review  sentiment\n",
              "0                                             Great.          1\n",
              "1                                          very good          1\n",
              "2  Anything that enables one to make his or her o...          1\n",
              "3                  simply excellent thanks amazon...          1\n",
              "4                                          Excellent          1"
            ]
          },
          "metadata": {
            "tags": []
          },
          "execution_count": 13
        }
      ]
    },
    {
      "cell_type": "code",
      "metadata": {
        "colab": {
          "base_uri": "https://localhost:8080/"
        },
        "id": "d4crFHycxyxc",
        "outputId": "41ca6566-2131-464f-d234-1c8e11820e70"
      },
      "source": [
        "df_fix['sentiment'].unique()"
      ],
      "execution_count": 22,
      "outputs": [
        {
          "output_type": "execute_result",
          "data": {
            "text/plain": [
              "array([1, 0])"
            ]
          },
          "metadata": {
            "tags": []
          },
          "execution_count": 22
        }
      ]
    },
    {
      "cell_type": "markdown",
      "metadata": {
        "id": "byvNZ8qJvVLO"
      },
      "source": [
        "# Split train and test data"
      ]
    },
    {
      "cell_type": "code",
      "metadata": {
        "id": "365TapKnur21"
      },
      "source": [
        "df_fix.reset_index()\n",
        "benchmark = int(0.8 * len(df_fix))\n",
        "train_df = df_fix.iloc[:benchmark, :]\n",
        "test_df = df_fix.iloc[benchmark:, :]"
      ],
      "execution_count": 28,
      "outputs": []
    },
    {
      "cell_type": "code",
      "metadata": {
        "colab": {
          "base_uri": "https://localhost:8080/"
        },
        "id": "4h-oR2odvsDU",
        "outputId": "ff2c231c-5dcd-46cf-ad54-82469b1b33de"
      },
      "source": [
        "len(train_df), len(test_df)"
      ],
      "execution_count": 29,
      "outputs": [
        {
          "output_type": "execute_result",
          "data": {
            "text/plain": [
              "(107041, 26761)"
            ]
          },
          "metadata": {
            "tags": []
          },
          "execution_count": 29
        }
      ]
    },
    {
      "cell_type": "code",
      "metadata": {
        "id": "jTQdyMaHvvx-"
      },
      "source": [
        "x_train = train_df['review'].values.tolist()\n",
        "y_train = train_df['sentiment'].tolist()"
      ],
      "execution_count": 30,
      "outputs": []
    },
    {
      "cell_type": "code",
      "metadata": {
        "id": "lqA_8aQywB6-"
      },
      "source": [
        "x_test = test_df['review'].values.tolist()\n",
        "y_test = test_df['sentiment'].tolist()"
      ],
      "execution_count": 31,
      "outputs": []
    },
    {
      "cell_type": "code",
      "metadata": {
        "id": "byLMwjoByeCu"
      },
      "source": [
        "BUFFER_SIZE = 10000\n",
        "BATCH_SIZE = 64"
      ],
      "execution_count": 32,
      "outputs": []
    },
    {
      "cell_type": "code",
      "metadata": {
        "id": "dYyW0G66zIcv"
      },
      "source": [
        "train_dataset = tf.data.Dataset.from_tensor_slices((x_train, y_train)).shuffle(BUFFER_SIZE).batch(BATCH_SIZE).prefetch(tf.data.AUTOTUNE)\n",
        "test_dataset = tf.data.Dataset.from_tensor_slices((x_test, y_test)).batch(BATCH_SIZE).prefetch(tf.data.AUTOTUNE)"
      ],
      "execution_count": 33,
      "outputs": []
    },
    {
      "cell_type": "markdown",
      "metadata": {
        "id": "GuPpfLwyzjCL"
      },
      "source": [
        "# Check data type"
      ]
    },
    {
      "cell_type": "code",
      "metadata": {
        "colab": {
          "base_uri": "https://localhost:8080/"
        },
        "id": "tPqbUfMtzfWN",
        "outputId": "abc27af3-e3a6-4125-8917-55f14b91c659"
      },
      "source": [
        "train_dataset"
      ],
      "execution_count": 34,
      "outputs": [
        {
          "output_type": "execute_result",
          "data": {
            "text/plain": [
              "<PrefetchDataset shapes: ((None,), (None,)), types: (tf.string, tf.int32)>"
            ]
          },
          "metadata": {
            "tags": []
          },
          "execution_count": 34
        }
      ]
    },
    {
      "cell_type": "code",
      "metadata": {
        "colab": {
          "base_uri": "https://localhost:8080/"
        },
        "id": "h7EX2XepzuV0",
        "outputId": "172e5481-7830-431d-e032-34f2fb534b86"
      },
      "source": [
        "test_dataset"
      ],
      "execution_count": 35,
      "outputs": [
        {
          "output_type": "execute_result",
          "data": {
            "text/plain": [
              "<PrefetchDataset shapes: ((None,), (None,)), types: (tf.string, tf.int32)>"
            ]
          },
          "metadata": {
            "tags": []
          },
          "execution_count": 35
        }
      ]
    },
    {
      "cell_type": "code",
      "metadata": {
        "colab": {
          "base_uri": "https://localhost:8080/"
        },
        "id": "S5fSDrDFzwR2",
        "outputId": "7aec992e-37a0-4739-c1ba-ea07c1973f4d"
      },
      "source": [
        "for example, label in train_dataset.take(1):\n",
        "  print('texts: ', example.numpy()[:3])\n",
        "  print()\n",
        "  print('labels: ', label.numpy()[:3])"
      ],
      "execution_count": 36,
      "outputs": [
        {
          "output_type": "stream",
          "text": [
            "texts:  [b'Our familiy loves this game! It is very fun and entertaining. Some of the content can be a litte racy, but in a humourous way. That is why it is rated T for Teens.'\n",
            " b'If you\\'re a fan of the previous versions of Mass Effect, the first 99.98% or so of this game is a visual and story delight. The story held you. Decisions made in previous games and earlier in this one had and held weight. The story flowed from story mode to combat with a grace not really seen in the series before.<br /><br />And then Bioware completely destroys all that good will with an ending that trivializes all that was good about it to that point.<br /><br />Want to know why? I won\\'t spoil you here - however, go into the Bioware forums, or look on Youtube for \\\\\\\\\"Mass Effect 3 endings\\\\\\\\\" and watch the comments. Good luck finding one from someone who has played the series that doesn\\'t say \\\\\\\\\"what the...?!?\\\\\\\\\" somewhere in it.<br /><br />Either the writers ran out of time (unused audio files found by some people seem to indicate this might be the case), or they decided to get clever at the last minute and throw in an ending that made NO SENSE whatsoever. Either way, Bioware blew this. If they couldn\\'t do it right by the release date, they should have pushed it back. People would have understood much more than this total clustermess.<br /><br />Until Bioware makes this right (FOR FREE, Bioware - you shouldn\\'t make us pay for a DLC to fix this), I can\\'t recommend this game whatsoever. In fact, I can\\'t recommend any Bioware game - not until the writers provide an explanation.<br /><br />This isn\\'t about liking/disliking the ending, or thinking it\\'s \\\\\\\\\"sad\\\\\\\\\" or whatever - it\\'s about the ending being everything contrary to what Mass Effect as a series is - a free-flowing universe where decisions matter. It\\'s like they took the ending for a completely different game and pasted it in.<br /><br />Another issue with the game (might as well) is that in order to get some of the single player endings, you have to play multiplayer - or run a game editor to tweak a saved game to trick the system. Some of us don\\'t like multiplayer online shoot \\'em ups, and forcing us to go that route to complete a game that is 98% single player - stupid, to put it bluntly.<br /><br />I really, really hope Bioware fixes this mess. Until then, buyer beware...'\n",
            " b\"The game itself? Great. Fun gameplay, gorgeous scenery, innovative job and leveling system... you'll enjoy it for the first 30-days. (It comes with a 30 day free trial)<br /><br />After that? Try as you might, it's seemingly impossible for a good chunk of people to successfully subscribe to play. Their subscription system bounces order after order in a row. It doesn't matter the type of card... Debit or Credit, Visa or Mastercard, 1-month or 6-month. No matter what you try, you can't renew... and customer service can't and won't help. (Don't take my word for it: Search the internet for &#34;FF XIV error code 401&#34; and you'll see the dozens of pages of locked forum threads demanding some sort of resolution for months)<br /><br />There's no point in playing a MMO you can only access for 30 days. It's borderline theft. Don't invest your time and energy into a game that you probably won't be able to play... and even if you're one of the lucky ones that CAN, there's little chance the game will stay afloat and update when they continue to push costumers away at this speed.<br /><br />TLDR- Find something else to spend your time and money on.\"]\n",
            "\n",
            "labels:  [1 0 0]\n"
          ],
          "name": "stdout"
        }
      ]
    },
    {
      "cell_type": "markdown",
      "metadata": {
        "id": "VrvhdsBq1Z79"
      },
      "source": [
        "# Text encoder"
      ]
    },
    {
      "cell_type": "code",
      "metadata": {
        "id": "UaiHl-2w1GJC"
      },
      "source": [
        "VOCAB_SIZE = 1000\n",
        "encoder = tf.keras.layers.experimental.preprocessing.TextVectorization(\n",
        "    max_tokens=VOCAB_SIZE)\n",
        "encoder.adapt(train_dataset.map(lambda text, label: text))"
      ],
      "execution_count": 37,
      "outputs": []
    },
    {
      "cell_type": "code",
      "metadata": {
        "colab": {
          "base_uri": "https://localhost:8080/"
        },
        "id": "Z2j4IxUA1i9V",
        "outputId": "91a391d0-d0c6-4788-a102-3978b46205b7"
      },
      "source": [
        "vocab = np.array(encoder.get_vocabulary())\n",
        "vocab[:20]"
      ],
      "execution_count": 38,
      "outputs": [
        {
          "output_type": "execute_result",
          "data": {
            "text/plain": [
              "array(['', '[UNK]', 'the', 'to', 'and', 'i', 'a', 'it', 'game', 'of',\n",
              "       'is', 'you', 'this', 'for', 'in', 'that', 'but', 'on', 'have',\n",
              "       'with'], dtype='<U13')"
            ]
          },
          "metadata": {
            "tags": []
          },
          "execution_count": 38
        }
      ]
    },
    {
      "cell_type": "code",
      "metadata": {
        "colab": {
          "base_uri": "https://localhost:8080/"
        },
        "id": "7GdYt30d1n4u",
        "outputId": "8aa92caf-558f-449f-9a11-32e41a77b6f1"
      },
      "source": [
        "encoded_example = encoder(example)[:3].numpy()\n",
        "encoded_example"
      ],
      "execution_count": 39,
      "outputs": [
        {
          "output_type": "execute_result",
          "data": {
            "text/plain": [
              "array([[654,   1, 745, ...,   0,   0,   0],\n",
              "       [ 27, 185,   6, ...,   0,   0,   0],\n",
              "       [  2,   8, 340, ...,   0,   0,   0]])"
            ]
          },
          "metadata": {
            "tags": []
          },
          "execution_count": 39
        }
      ]
    },
    {
      "cell_type": "code",
      "metadata": {
        "colab": {
          "base_uri": "https://localhost:8080/"
        },
        "id": "K2THzHc71ui-",
        "outputId": "4d347ea6-f459-4477-c76e-f80b3c13f033"
      },
      "source": [
        "for n in range(3):\n",
        "  print(\"Original: \", example[n].numpy())\n",
        "  print(\"Round-trip: \", \" \".join(vocab[encoded_example[n]]))\n",
        "  print()"
      ],
      "execution_count": 40,
      "outputs": [
        {
          "output_type": "stream",
          "text": [
            "Original:  b'Our familiy loves this game! It is very fun and entertaining. Some of the content can be a litte racy, but in a humourous way. That is why it is rated T for Teens.'\n",
            "Round-trip:  our [UNK] loves this game it is very fun and entertaining some of the content can be a [UNK] [UNK] but in a [UNK] way that is why it is [UNK] [UNK] for [UNK]                                                                                                                                                                                                                                                                                                                                                                                                                                                                                         \n",
            "\n",
            "Original:  b'If you\\'re a fan of the previous versions of Mass Effect, the first 99.98% or so of this game is a visual and story delight. The story held you. Decisions made in previous games and earlier in this one had and held weight. The story flowed from story mode to combat with a grace not really seen in the series before.<br /><br />And then Bioware completely destroys all that good will with an ending that trivializes all that was good about it to that point.<br /><br />Want to know why? I won\\'t spoil you here - however, go into the Bioware forums, or look on Youtube for \\\\\\\\\"Mass Effect 3 endings\\\\\\\\\" and watch the comments. Good luck finding one from someone who has played the series that doesn\\'t say \\\\\\\\\"what the...?!?\\\\\\\\\" somewhere in it.<br /><br />Either the writers ran out of time (unused audio files found by some people seem to indicate this might be the case), or they decided to get clever at the last minute and throw in an ending that made NO SENSE whatsoever. Either way, Bioware blew this. If they couldn\\'t do it right by the release date, they should have pushed it back. People would have understood much more than this total clustermess.<br /><br />Until Bioware makes this right (FOR FREE, Bioware - you shouldn\\'t make us pay for a DLC to fix this), I can\\'t recommend this game whatsoever. In fact, I can\\'t recommend any Bioware game - not until the writers provide an explanation.<br /><br />This isn\\'t about liking/disliking the ending, or thinking it\\'s \\\\\\\\\"sad\\\\\\\\\" or whatever - it\\'s about the ending being everything contrary to what Mass Effect as a series is - a free-flowing universe where decisions matter. It\\'s like they took the ending for a completely different game and pasted it in.<br /><br />Another issue with the game (might as well) is that in order to get some of the single player endings, you have to play multiplayer - or run a game editor to tweak a saved game to trick the system. Some of us don\\'t like multiplayer online shoot \\'em ups, and forcing us to go that route to complete a game that is 98% single player - stupid, to put it bluntly.<br /><br />I really, really hope Bioware fixes this mess. Until then, buyer beware...'\n",
            "Round-trip:  if youre a fan of the previous versions of mass effect the first [UNK] or so of this game is a [UNK] and story [UNK] the story [UNK] you [UNK] made in previous games and [UNK] in this one had and [UNK] [UNK] the story [UNK] from story mode to combat with a [UNK] not really seen in the series [UNK] br and then [UNK] completely [UNK] all that good will with an ending that [UNK] all that was good about it to that [UNK] br want to know why i wont [UNK] you here however go into the [UNK] [UNK] or look on [UNK] for mass effect 3 [UNK] and watch the [UNK] good luck finding one from someone who has played the series that doesnt say what the [UNK] in itbr br either the [UNK] ran out of time [UNK] [UNK] files found by some people seem to [UNK] this might be the case or they decided to get [UNK] at the last minute and [UNK] in an ending that made no sense [UNK] either way [UNK] [UNK] this if they couldnt do it right by the release date they should have [UNK] it back people would have [UNK] much more than this total [UNK] br until [UNK] makes this right for free [UNK] you [UNK] make us pay for a dlc to fix this i cant recommend this game [UNK] in fact i cant recommend any [UNK] game not until the [UNK] [UNK] an [UNK] br this isnt about [UNK] the ending or thinking its [UNK] or whatever its about the ending being everything [UNK] to what mass effect as a series is a [UNK] [UNK] where [UNK] matter its like they took the ending for a completely different game and [UNK] it [UNK] br another issue with the game might as well is that in order to get some of the single player [UNK] you have to play multiplayer or run a game [UNK] to [UNK] a saved game to [UNK] the system some of us dont like multiplayer online shoot [UNK] [UNK] and [UNK] us to go that [UNK] to complete a game that is [UNK] single player stupid to put it [UNK] br i really really hope [UNK] [UNK] this [UNK] until then [UNK] [UNK]                                                                                                                              \n",
            "\n",
            "Original:  b\"The game itself? Great. Fun gameplay, gorgeous scenery, innovative job and leveling system... you'll enjoy it for the first 30-days. (It comes with a 30 day free trial)<br /><br />After that? Try as you might, it's seemingly impossible for a good chunk of people to successfully subscribe to play. Their subscription system bounces order after order in a row. It doesn't matter the type of card... Debit or Credit, Visa or Mastercard, 1-month or 6-month. No matter what you try, you can't renew... and customer service can't and won't help. (Don't take my word for it: Search the internet for &#34;FF XIV error code 401&#34; and you'll see the dozens of pages of locked forum threads demanding some sort of resolution for months)<br /><br />There's no point in playing a MMO you can only access for 30 days. It's borderline theft. Don't invest your time and energy into a game that you probably won't be able to play... and even if you're one of the lucky ones that CAN, there's little chance the game will stay afloat and update when they continue to push costumers away at this speed.<br /><br />TLDR- Find something else to spend your time and money on.\"\n",
            "Round-trip:  the game itself great fun gameplay [UNK] [UNK] [UNK] job and [UNK] system youll enjoy it for the first [UNK] it comes with a 30 day free [UNK] br after that try as you might its [UNK] impossible for a good [UNK] of people to [UNK] [UNK] to play their subscription system [UNK] order after order in a [UNK] it doesnt matter the type of card [UNK] or credit [UNK] or [UNK] [UNK] or [UNK] no matter what you try you cant [UNK] and customer service cant and wont help dont take my word for it [UNK] the internet for [UNK] [UNK] error code [UNK] and youll see the [UNK] of [UNK] of [UNK] [UNK] [UNK] [UNK] some sort of [UNK] for [UNK] br theres no point in playing a mmo you can only access for 30 days its [UNK] [UNK] dont [UNK] your time and [UNK] into a game that you probably wont be able to play and even if youre one of the [UNK] ones that can theres little chance the game will stay [UNK] and update when they continue to [UNK] [UNK] away at this [UNK] br [UNK] find something else to spend your time and money on                                                                                                                                                                                                                                                                                                                  \n",
            "\n"
          ],
          "name": "stdout"
        }
      ]
    },
    {
      "cell_type": "markdown",
      "metadata": {
        "id": "1jpt-9a718ev"
      },
      "source": [
        "# Create model"
      ]
    },
    {
      "cell_type": "code",
      "metadata": {
        "id": "UBcYgER_1yTy"
      },
      "source": [
        "model = tf.keras.Sequential([\n",
        "    encoder,\n",
        "    tf.keras.layers.Embedding(\n",
        "        input_dim=len(encoder.get_vocabulary()),\n",
        "        output_dim=64,\n",
        "        # Use masking to handle the variable sequence lengths\n",
        "        mask_zero=True),\n",
        "    tf.keras.layers.Bidirectional(tf.keras.layers.LSTM(64)),\n",
        "    tf.keras.layers.Dense(64, activation='relu'),\n",
        "    tf.keras.layers.Dense(1)\n",
        "])"
      ],
      "execution_count": 41,
      "outputs": []
    },
    {
      "cell_type": "code",
      "metadata": {
        "colab": {
          "base_uri": "https://localhost:8080/"
        },
        "id": "Gnfhd2mc1_7D",
        "outputId": "294093ac-830c-45bd-b0f2-fea3a2d64b87"
      },
      "source": [
        "print([layer.supports_masking for layer in model.layers])"
      ],
      "execution_count": 42,
      "outputs": [
        {
          "output_type": "stream",
          "text": [
            "[False, True, True, True, True]\n"
          ],
          "name": "stdout"
        }
      ]
    },
    {
      "cell_type": "code",
      "metadata": {
        "colab": {
          "base_uri": "https://localhost:8080/"
        },
        "id": "xplqr4eT2DkG",
        "outputId": "eb844dab-e0ae-49f8-f1f6-95c3ce90bc34"
      },
      "source": [
        "# predict on a sample text without padding.\n",
        "\n",
        "sample_text = ('This game is very good')\n",
        "predictions = model.predict(np.array([sample_text]))\n",
        "print(predictions[0])"
      ],
      "execution_count": 45,
      "outputs": [
        {
          "output_type": "stream",
          "text": [
            "[0.00650971]\n"
          ],
          "name": "stdout"
        }
      ]
    },
    {
      "cell_type": "code",
      "metadata": {
        "colab": {
          "base_uri": "https://localhost:8080/"
        },
        "id": "toV1wyU-2Ncm",
        "outputId": "ee07c915-a58d-469e-c8b5-e3b16c1cf560"
      },
      "source": [
        "# predict on a sample text with padding\n",
        "\n",
        "padding = \"the \" * 2000\n",
        "predictions = model.predict(np.array([sample_text, padding]))\n",
        "print(predictions[0])"
      ],
      "execution_count": 46,
      "outputs": [
        {
          "output_type": "stream",
          "text": [
            "[0.00650971]\n"
          ],
          "name": "stdout"
        }
      ]
    },
    {
      "cell_type": "code",
      "metadata": {
        "id": "fO6ZgPi92xRQ"
      },
      "source": [
        "model.compile(loss=tf.keras.losses.BinaryCrossentropy(from_logits=True),\n",
        "              optimizer=tf.keras.optimizers.Adam(1e-4),\n",
        "              metrics=['accuracy'])"
      ],
      "execution_count": 47,
      "outputs": []
    },
    {
      "cell_type": "markdown",
      "metadata": {
        "id": "wYwls6jP25Xr"
      },
      "source": [
        "# Train the model"
      ]
    },
    {
      "cell_type": "code",
      "metadata": {
        "colab": {
          "base_uri": "https://localhost:8080/"
        },
        "id": "785gbwYq24AC",
        "outputId": "ea70abae-455c-41f3-a5f7-8c0a2196cccc"
      },
      "source": [
        "history = model.fit(train_dataset, epochs=15,\n",
        "                    validation_data=test_dataset,\n",
        "                    validation_steps=30)"
      ],
      "execution_count": 48,
      "outputs": [
        {
          "output_type": "stream",
          "text": [
            "Epoch 1/15\n",
            "1673/1673 [==============================] - 280s 164ms/step - loss: 0.3232 - accuracy: 0.8270 - val_loss: 0.2220 - val_accuracy: 0.9161\n",
            "Epoch 2/15\n",
            "1673/1673 [==============================] - 269s 161ms/step - loss: 0.2189 - accuracy: 0.9105 - val_loss: 0.2072 - val_accuracy: 0.9224\n",
            "Epoch 3/15\n",
            "1673/1673 [==============================] - 249s 149ms/step - loss: 0.2098 - accuracy: 0.9142 - val_loss: 0.1999 - val_accuracy: 0.9245\n",
            "Epoch 4/15\n",
            "1673/1673 [==============================] - 274s 164ms/step - loss: 0.2050 - accuracy: 0.9153 - val_loss: 0.1999 - val_accuracy: 0.9255\n",
            "Epoch 5/15\n",
            "1673/1673 [==============================] - 280s 168ms/step - loss: 0.2002 - accuracy: 0.9177 - val_loss: 0.1983 - val_accuracy: 0.9266\n",
            "Epoch 6/15\n",
            "1673/1673 [==============================] - 287s 172ms/step - loss: 0.1953 - accuracy: 0.9189 - val_loss: 0.1964 - val_accuracy: 0.9255\n",
            "Epoch 7/15\n",
            "1673/1673 [==============================] - 289s 173ms/step - loss: 0.1914 - accuracy: 0.9218 - val_loss: 0.2008 - val_accuracy: 0.9214\n",
            "Epoch 8/15\n",
            "1673/1673 [==============================] - 267s 159ms/step - loss: 0.1872 - accuracy: 0.9229 - val_loss: 0.1966 - val_accuracy: 0.9271\n",
            "Epoch 9/15\n",
            "1673/1673 [==============================] - 266s 159ms/step - loss: 0.1839 - accuracy: 0.9244 - val_loss: 0.1967 - val_accuracy: 0.9260\n",
            "Epoch 10/15\n",
            "1673/1673 [==============================] - 280s 168ms/step - loss: 0.1806 - accuracy: 0.9261 - val_loss: 0.1990 - val_accuracy: 0.9240\n",
            "Epoch 11/15\n",
            "1673/1673 [==============================] - 265s 159ms/step - loss: 0.1775 - accuracy: 0.9271 - val_loss: 0.1969 - val_accuracy: 0.9250\n",
            "Epoch 12/15\n",
            "1673/1673 [==============================] - 293s 175ms/step - loss: 0.1739 - accuracy: 0.9286 - val_loss: 0.1967 - val_accuracy: 0.9193\n",
            "Epoch 13/15\n",
            "1673/1673 [==============================] - 272s 162ms/step - loss: 0.1702 - accuracy: 0.9300 - val_loss: 0.1985 - val_accuracy: 0.9161\n",
            "Epoch 14/15\n",
            "1673/1673 [==============================] - 267s 160ms/step - loss: 0.1666 - accuracy: 0.9317 - val_loss: 0.2040 - val_accuracy: 0.9255\n",
            "Epoch 15/15\n",
            "1673/1673 [==============================] - 273s 163ms/step - loss: 0.1627 - accuracy: 0.9336 - val_loss: 0.2056 - val_accuracy: 0.9115\n"
          ],
          "name": "stdout"
        }
      ]
    },
    {
      "cell_type": "code",
      "metadata": {
        "colab": {
          "base_uri": "https://localhost:8080/"
        },
        "id": "zR1oeFi43Cv3",
        "outputId": "135ce3b2-2edf-4765-a5bc-14f0c989a228"
      },
      "source": [
        "test_loss, test_acc = model.evaluate(test_dataset)\n",
        "\n",
        "print('Test Loss:', test_loss)\n",
        "print('Test Accuracy:', test_acc)"
      ],
      "execution_count": 49,
      "outputs": [
        {
          "output_type": "stream",
          "text": [
            "419/419 [==============================] - 17s 41ms/step - loss: 0.2000 - accuracy: 0.9147\n",
            "Test Loss: 0.1999959945678711\n",
            "Test Accuracy: 0.914689302444458\n"
          ],
          "name": "stdout"
        }
      ]
    },
    {
      "cell_type": "code",
      "metadata": {
        "colab": {
          "base_uri": "https://localhost:8080/",
          "height": 497
        },
        "id": "uldM8lmKH1Dh",
        "outputId": "89a8af1b-3423-4647-c96a-4b0772b5adbb"
      },
      "source": [
        "# Visualization\n",
        "plt.figure(figsize=(16, 8))\n",
        "plt.subplot(1, 2, 1)\n",
        "plot_graphs(history, 'accuracy')\n",
        "plt.subplot(1, 2, 2)\n",
        "plot_graphs(history, 'loss')"
      ],
      "execution_count": 51,
      "outputs": [
        {
          "output_type": "display_data",
          "data": {
            "image/png": "[encoded data removed]",
            "text/plain": [
              "<Figure size 1152x576 with 2 Axes>"
            ]
          },
          "metadata": {
            "tags": [],
            "needs_background": "light"
          }
        }
      ]
    },
    {
      "cell_type": "code",
      "metadata": {
        "colab": {
          "base_uri": "https://localhost:8080/"
        },
        "id": "qQelQrdvIUoo",
        "outputId": "5b727956-666b-46c2-e610-c16f935015e0"
      },
      "source": [
        "sample_text = ('This game is very good')\n",
        "predictions = model.predict(np.array([sample_text]))\n",
        "print(predictions)"
      ],
      "execution_count": 52,
      "outputs": [
        {
          "output_type": "stream",
          "text": [
            "[[4.706659]]\n"
          ],
          "name": "stdout"
        }
      ]
    },
    {
      "cell_type": "code",
      "metadata": {
        "colab": {
          "base_uri": "https://localhost:8080/"
        },
        "id": "0XEY48gAJJGP",
        "outputId": "2b6a8f3f-ea4a-4c5f-e771-a2daa93c2c78"
      },
      "source": [
        "sample_text1 = ('This is the worst game ever')\n",
        "predictions1 = model.predict(np.array([sample_text1]))\n",
        "print(predictions1)"
      ],
      "execution_count": 53,
      "outputs": [
        {
          "output_type": "stream",
          "text": [
            "[[-4.558809]]\n"
          ],
          "name": "stdout"
        }
      ]
    },
    {
      "cell_type": "code",
      "metadata": {
        "colab": {
          "base_uri": "https://localhost:8080/"
        },
        "id": "ZWCtkddZJbGf",
        "outputId": "9911d3af-6cc8-4171-a7a7-a85e873ba3ba"
      },
      "source": [
        "model.save('nlp_model')"
      ],
      "execution_count": 54,
      "outputs": [
        {
          "output_type": "stream",
          "text": [
            "WARNING:absl:Found untraced functions such as lstm_cell_1_layer_call_fn, lstm_cell_1_layer_call_and_return_conditional_losses, lstm_cell_2_layer_call_fn, lstm_cell_2_layer_call_and_return_conditional_losses, lstm_cell_1_layer_call_fn while saving (showing 5 of 10). These functions will not be directly callable after loading.\n"
          ],
          "name": "stderr"
        },
        {
          "output_type": "stream",
          "text": [
            "INFO:tensorflow:Assets written to: nlp_model/assets\n"
          ],
          "name": "stdout"
        },
        {
          "output_type": "stream",
          "text": [
            "INFO:tensorflow:Assets written to: nlp_model/assets\n"
          ],
          "name": "stderr"
        }
      ]
    },
    {
      "cell_type": "markdown",
      "metadata": {
        "id": "WYIhM7LYJ8wl"
      },
      "source": [
        "# Create model with two or more LSTM layer"
      ]
    },
    {
      "cell_type": "code",
      "metadata": {
        "id": "OM0k1zcoJz6v"
      },
      "source": [
        "model = tf.keras.Sequential([\n",
        "    encoder,\n",
        "    tf.keras.layers.Embedding(len(encoder.get_vocabulary()), 64, mask_zero=True),\n",
        "    tf.keras.layers.Bidirectional(tf.keras.layers.LSTM(64,  return_sequences=True)),\n",
        "    tf.keras.layers.Bidirectional(tf.keras.layers.LSTM(32)),\n",
        "    tf.keras.layers.Dense(64, activation='relu'),\n",
        "    tf.keras.layers.Dropout(0.5),\n",
        "    tf.keras.layers.Dense(1)\n",
        "])"
      ],
      "execution_count": 55,
      "outputs": []
    },
    {
      "cell_type": "code",
      "metadata": {
        "id": "mUqR3rTrKLuo"
      },
      "source": [
        "model.compile(loss=tf.keras.losses.BinaryCrossentropy(from_logits=True),\n",
        "              optimizer=tf.keras.optimizers.Adam(1e-4),\n",
        "              metrics=['accuracy'])"
      ],
      "execution_count": 56,
      "outputs": []
    },
    {
      "cell_type": "markdown",
      "metadata": {
        "id": "V-4be7P-KUrZ"
      },
      "source": [
        "# Train model with two LSTM layers"
      ]
    },
    {
      "cell_type": "code",
      "metadata": {
        "colab": {
          "base_uri": "https://localhost:8080/"
        },
        "id": "aoVPoGlFKPAO",
        "outputId": "99197b69-1e82-4925-8283-e0f1c397bd50"
      },
      "source": [
        "history = model.fit(train_dataset, epochs=15,\n",
        "                    validation_data=test_dataset,\n",
        "                    validation_steps=30)"
      ],
      "execution_count": 58,
      "outputs": [
        {
          "output_type": "stream",
          "text": [
            "Epoch 1/15\n",
            "1673/1673 [==============================] - 525s 310ms/step - loss: 0.3319 - accuracy: 0.8187 - val_loss: 0.2305 - val_accuracy: 0.9042\n",
            "Epoch 2/15\n",
            "1673/1673 [==============================] - 516s 308ms/step - loss: 0.2273 - accuracy: 0.9092 - val_loss: 0.2260 - val_accuracy: 0.9214\n",
            "Epoch 3/15\n",
            "1673/1673 [==============================] - 537s 321ms/step - loss: 0.2157 - accuracy: 0.9124 - val_loss: 0.2048 - val_accuracy: 0.9250\n",
            "Epoch 4/15\n",
            "1673/1673 [==============================] - 487s 291ms/step - loss: 0.2096 - accuracy: 0.9145 - val_loss: 0.2109 - val_accuracy: 0.9208\n",
            "Epoch 5/15\n",
            "1673/1673 [==============================] - 479s 286ms/step - loss: 0.2050 - accuracy: 0.9161 - val_loss: 0.2013 - val_accuracy: 0.9271\n",
            "Epoch 6/15\n",
            "1673/1673 [==============================] - 525s 314ms/step - loss: 0.2018 - accuracy: 0.9177 - val_loss: 0.1989 - val_accuracy: 0.9260\n",
            "Epoch 7/15\n",
            "1673/1673 [==============================] - 510s 305ms/step - loss: 0.1967 - accuracy: 0.9200 - val_loss: 0.1987 - val_accuracy: 0.9245\n",
            "Epoch 8/15\n",
            "1673/1673 [==============================] - 483s 289ms/step - loss: 0.1927 - accuracy: 0.9209 - val_loss: 0.1978 - val_accuracy: 0.9292\n",
            "Epoch 9/15\n",
            "1673/1673 [==============================] - 530s 317ms/step - loss: 0.1885 - accuracy: 0.9228 - val_loss: 0.1971 - val_accuracy: 0.9177\n",
            "Epoch 10/15\n",
            "1673/1673 [==============================] - 530s 317ms/step - loss: 0.1845 - accuracy: 0.9246 - val_loss: 0.1944 - val_accuracy: 0.9271\n",
            "Epoch 11/15\n",
            "1673/1673 [==============================] - 491s 294ms/step - loss: 0.1802 - accuracy: 0.9257 - val_loss: 0.1942 - val_accuracy: 0.9276\n",
            "Epoch 12/15\n",
            "1673/1673 [==============================] - 436s 261ms/step - loss: 0.1765 - accuracy: 0.9277 - val_loss: 0.1966 - val_accuracy: 0.9240\n",
            "Epoch 13/15\n",
            "1673/1673 [==============================] - 480s 287ms/step - loss: 0.1725 - accuracy: 0.9295 - val_loss: 0.1952 - val_accuracy: 0.9266\n",
            "Epoch 14/15\n",
            "1673/1673 [==============================] - 464s 277ms/step - loss: 0.1681 - accuracy: 0.9314 - val_loss: 0.1986 - val_accuracy: 0.9286\n",
            "Epoch 15/15\n",
            "1673/1673 [==============================] - 480s 287ms/step - loss: 0.1645 - accuracy: 0.9329 - val_loss: 0.1995 - val_accuracy: 0.9286\n"
          ],
          "name": "stdout"
        }
      ]
    },
    {
      "cell_type": "code",
      "metadata": {
        "colab": {
          "base_uri": "https://localhost:8080/"
        },
        "id": "OePYgvA0KjBP",
        "outputId": "809dca9d-f672-440c-dc0a-21af015d82f9"
      },
      "source": [
        "test_loss, test_acc = model.evaluate(test_dataset)\n",
        "\n",
        "print('Test Loss:', test_loss)\n",
        "print('Test Accuracy:', test_acc)"
      ],
      "execution_count": 59,
      "outputs": [
        {
          "output_type": "stream",
          "text": [
            "419/419 [==============================] - 27s 65ms/step - loss: 0.1956 - accuracy: 0.9266\n",
            "Test Loss: 0.1955687254667282\n",
            "Test Accuracy: 0.9265722632408142\n"
          ],
          "name": "stdout"
        }
      ]
    },
    {
      "cell_type": "code",
      "metadata": {
        "colab": {
          "base_uri": "https://localhost:8080/"
        },
        "id": "OHUFZxFKiBiF",
        "outputId": "afd98333-e8e4-4979-b767-2a8b2183184f"
      },
      "source": [
        "sample_text = ('I love this game so much. I enjoy all of the story.')\n",
        "predictions = model.predict(np.array([sample_text]))\n",
        "print(predictions)"
      ],
      "execution_count": 60,
      "outputs": [
        {
          "output_type": "stream",
          "text": [
            "[[7.95726]]\n"
          ],
          "name": "stdout"
        }
      ]
    },
    {
      "cell_type": "code",
      "metadata": {
        "colab": {
          "base_uri": "https://localhost:8080/",
          "height": 388
        },
        "id": "svXN5Ir9icPB",
        "outputId": "e7f3a75a-aa3c-45f3-e5f6-a6f6cfbc0581"
      },
      "source": [
        "plt.figure(figsize=(16, 6))\n",
        "plt.subplot(1, 2, 1)\n",
        "plot_graphs(history, 'accuracy')\n",
        "plt.subplot(1, 2, 2)\n",
        "plot_graphs(history, 'loss')"
      ],
      "execution_count": 61,
      "outputs": [
        {
          "output_type": "display_data",
          "data": {
            "image/png": "[encoded data removed]",
            "text/plain": [
              "<Figure size 1152x432 with 2 Axes>"
            ]
          },
          "metadata": {
            "tags": [],
            "needs_background": "light"
          }
        }
      ]
    },
    {
      "cell_type": "code",
      "metadata": {
        "colab": {
          "base_uri": "https://localhost:8080/"
        },
        "id": "_WnnyWmpiesm",
        "outputId": "0f36097a-2322-4120-b43e-d0529d9268ee"
      },
      "source": [
        "model.save('nlp_model_2lstm')"
      ],
      "execution_count": 62,
      "outputs": [
        {
          "output_type": "stream",
          "text": [
            "WARNING:absl:Found untraced functions such as lstm_cell_4_layer_call_fn, lstm_cell_4_layer_call_and_return_conditional_losses, lstm_cell_5_layer_call_fn, lstm_cell_5_layer_call_and_return_conditional_losses, lstm_cell_7_layer_call_fn while saving (showing 5 of 20). These functions will not be directly callable after loading.\n"
          ],
          "name": "stderr"
        },
        {
          "output_type": "stream",
          "text": [
            "INFO:tensorflow:Assets written to: nlp_model_2lstm/assets\n"
          ],
          "name": "stdout"
        },
        {
          "output_type": "stream",
          "text": [
            "INFO:tensorflow:Assets written to: nlp_model_2lstm/assets\n"
          ],
          "name": "stderr"
        }
      ]
    },
    {
      "cell_type": "code",
      "metadata": {
        "id": "1HVHB-2mq1ob"
      },
      "source": [
        ""
      ],
      "execution_count": null,
      "outputs": []
    }
  ]
}